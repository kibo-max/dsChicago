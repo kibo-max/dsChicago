{
  "nbformat": 4,
  "nbformat_minor": 0,
  "metadata": {
    "colab": {
      "provenance": []
    },
    "kernelspec": {
      "name": "python3",
      "display_name": "Python 3"
    },
    "language_info": {
      "name": "python"
    }
  },
  "cells": [
    {
      "cell_type": "markdown",
      "source": [
        "[BIGFILE](https://drive.google.com/drive/folders/1fjYDFc1fT5yZkHg4cLafTKzfLQIuMXxT?usp=sharing)"
      ],
      "metadata": {
        "id": "euog8G3Q9p_h"
      }
    }
  ]
}